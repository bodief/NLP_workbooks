{
 "cells": [
  {
   "cell_type": "markdown",
   "metadata": {},
   "source": [
    "# Homework #3  Bodie Franklin"
   ]
  },
  {
   "cell_type": "code",
   "execution_count": 7,
   "metadata": {},
   "outputs": [
    {
     "name": "stdout",
     "output_type": "stream",
     "text": [
      "Wall time: 0 ns\n"
     ]
    }
   ],
   "source": [
    "%%time\n",
    "import nltk\n",
    "import matplotlib as plt\n",
    "from difflib import SequenceMatcher\n",
    "import os\n",
    "import editdistance\n",
    "from nltk.tokenize import RegexpTokenizer\n",
    "import numpy as np\n",
    "from sklearn.preprocessing import minmax_scale\n",
    "from IPython.display import Image\n",
    "from IPython.core.display import HTML \n",
    "import requests\n",
    "import urllib.request\n",
    "import time\n",
    "from bs4 import BeautifulSoup\n",
    "import re\n",
    "from nltk.corpus import stopwords\n",
    "from nltk.tokenize import word_tokenize\n",
    "from string import punctuation"
   ]
  },
  {
   "cell_type": "markdown",
   "metadata": {},
   "source": [
    "## Question 1"
   ]
  },
  {
   "cell_type": "code",
   "execution_count": 11,
   "metadata": {},
   "outputs": [
    {
     "name": "stdout",
     "output_type": "stream",
     "text": [
      "The distance between my name and nickname is: 3\n",
      "The percentage string match between my name and nickname is: 0.57\n"
     ]
    }
   ],
   "source": [
    "name = \"Bodie\"\n",
    "\n",
    "nick_name = \"Bo\"\n",
    "\n",
    "print(\"The distance between my name and nickname is:\",editdistance.eval(name,nick_name))\n",
    "\n",
    "\n",
    "print(\"The percentage string match between my name and nickname is:\",round(SequenceMatcher(None, name,nick_name).ratio(),2))"
   ]
  },
  {
   "cell_type": "markdown",
   "metadata": {},
   "source": [
    "## Question 2"
   ]
  },
  {
   "cell_type": "code",
   "execution_count": 13,
   "metadata": {},
   "outputs": [
    {
     "name": "stdout",
     "output_type": "stream",
     "text": [
      "['mr', 'mrs', 'dursley', ',', 'number', 'four', ',', 'privet', 'drive', ',', 'proud', 'say', 'perfectly', 'normal', ',', 'thank', 'much', '.', 'last', 'people', '’', 'expect', 'involved', 'anything', 'strange', 'mysterious', ',', '’', 'hold', 'nonsense']\n"
     ]
    }
   ],
   "source": [
    "sentence = \"Mr and Mrs Dursley, of number four, Privet Drive,were proud to say that they were perfectly normal, thank you very much. They were the last people you’d expect to be involved in anything strange or mysterious, because they just didn’t hold with such nonsense\"\n",
    "\n",
    "sentence = sentence.lower()\n",
    "\n",
    "stop_words = set(stopwords.words('english'))\n",
    "\n",
    "word_tokens = word_tokenize(sentence)\n",
    " \n",
    "filtered_sentence = [w for w in word_tokens if not w.lower() in stop_words]\n",
    " \n",
    "filtered_sentence = []\n",
    " \n",
    "for w in word_tokens:\n",
    "    if w not in stop_words:\n",
    "        filtered_sentence.append(w)\n",
    "\n",
    "\n",
    "print(filtered_sentence)\n"
   ]
  },
  {
   "cell_type": "markdown",
   "metadata": {},
   "source": [
    "My girlfriend was able to guess that the sentance was from a harry potter book for two reasons :\n",
    "    * mr & mrs dursley is a give away that this has to do with harry potter\n",
    "    * privet drive, this is the house harry potter would stay at during his summer vacations from hogwarts\n",
    "    \n",
    "But my girlfriend was not able to guess that it was the first harry potter book on first try. Once she had the hint that it from a first page, she guess it was the first book since the sentence starts out describing the house."
   ]
  },
  {
   "cell_type": "markdown",
   "metadata": {},
   "source": [
    "## Question 3"
   ]
  },
  {
   "cell_type": "code",
   "execution_count": 32,
   "metadata": {},
   "outputs": [
    {
     "name": "stdout",
     "output_type": "stream",
     "text": [
      "mr  :  mr\n",
      "and  :  and\n",
      "mrs  :  mrs\n",
      "dursley  :  dursley\n",
      ",  :  ,\n",
      "of  :  of\n",
      "number  :  number\n",
      "four  :  four\n",
      ",  :  ,\n",
      "privet  :  privet\n",
      "drive  :  drive\n",
      ",  :  ,\n",
      "were  :  were\n",
      "proud  :  proud\n",
      "to  :  to\n",
      "say  :  say\n",
      "that  :  that\n",
      "they  :  they\n",
      "were  :  were\n",
      "perfectly  :  perfect\n",
      "normal  :  normal\n",
      ",  :  ,\n",
      "thank  :  thank\n",
      "you  :  you\n",
      "very  :  very\n",
      "much  :  much\n",
      ".  :  .\n",
      "they  :  they\n",
      "were  :  were\n",
      "the  :  the\n",
      "last  :  last\n",
      "people  :  peopl\n",
      "you  :  you\n",
      "’  :  ’\n",
      "d  :  d\n",
      "expect  :  expect\n",
      "to  :  to\n",
      "be  :  be\n",
      "involved  :  involv\n",
      "in  :  in\n",
      "anything  :  anyth\n",
      "strange  :  strang\n",
      "or  :  or\n",
      "mysterious  :  mysteri\n",
      ",  :  ,\n",
      "because  :  because\n",
      "they  :  they\n",
      "just  :  just\n",
      "didn  :  didn\n",
      "’  :  ’\n",
      "t  :  t\n",
      "hold  :  hold\n",
      "with  :  with\n",
      "such  :  such\n",
      "nonsense  :  nonsens\n",
      "-------------------------------------------------\n",
      "It seems only 0.89 are valid morophological roots\n"
     ]
    }
   ],
   "source": [
    "from nltk.stem.snowball import SnowballStemmer\n",
    "\n",
    "stemmer = SnowballStemmer(\"english\", ignore_stopwords=True)\n",
    "\n",
    "words = word_tokenize(sentence)\n",
    "\n",
    "for w in words:\n",
    "    print(w, \" : \", stemmer.stem(w))\n",
    "    \n",
    "print(\"-------------------------------------------------\")\n",
    "\n",
    "print(\"It seems only\", round(49/55,2) ,\"are valid morophological roots\")"
   ]
  }
 ],
 "metadata": {
  "kernelspec": {
   "display_name": "Python 3",
   "language": "python",
   "name": "python3"
  },
  "language_info": {
   "codemirror_mode": {
    "name": "ipython",
    "version": 3
   },
   "file_extension": ".py",
   "mimetype": "text/x-python",
   "name": "python",
   "nbconvert_exporter": "python",
   "pygments_lexer": "ipython3",
   "version": "3.7.4"
  }
 },
 "nbformat": 4,
 "nbformat_minor": 2
}
