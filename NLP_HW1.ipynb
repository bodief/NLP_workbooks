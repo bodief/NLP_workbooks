{
 "cells": [
  {
   "cell_type": "markdown",
   "metadata": {},
   "source": [
    "# Homework #1  Bodie Franklin"
   ]
  },
  {
   "cell_type": "code",
   "execution_count": 1,
   "metadata": {},
   "outputs": [
    {
     "name": "stdout",
     "output_type": "stream",
     "text": [
      "Wall time: 925 ms\n"
     ]
    }
   ],
   "source": [
    "%%time\n",
    "import nltk"
   ]
  },
  {
   "cell_type": "markdown",
   "metadata": {},
   "source": [
    "## Question 2"
   ]
  },
  {
   "cell_type": "code",
   "execution_count": 2,
   "metadata": {},
   "outputs": [],
   "source": [
    "def lexical_diversity(text):\n",
    "    return len(set(text)) / len(text)\n",
    "\n",
    "\n",
    "def percentage(count, total):\n",
    "    return 100 * count / total"
   ]
  },
  {
   "cell_type": "markdown",
   "metadata": {},
   "source": [
    "## Question 3"
   ]
  },
  {
   "cell_type": "markdown",
   "metadata": {},
   "source": [
    "The three books I used in this exercise were\n",
    "* The History of Insects\n",
    "* The book of Nature Myths\n",
    "* The Beacon Second Reader"
   ]
  },
  {
   "cell_type": "code",
   "execution_count": 8,
   "metadata": {},
   "outputs": [
    {
     "name": "stdout",
     "output_type": "stream",
     "text": [
      "For Text 1, the lexical diversity score is:  0.358621889681573\n",
      "For Text 2, the lexical diversity score is:  0.14304917063204023\n",
      "For Text 3, the lexical diversity score is:  0.2515864128406122\n",
      "Wall time: 12.2 ms\n"
     ]
    }
   ],
   "source": [
    "%%time\n",
    "one = open('C:/Users/bodie/Documents/historyofinsects.txt')\n",
    "text = one.read()\n",
    "text1 = text.split()\n",
    "abstracts1 =nltk.Text(text1)\n",
    "\n",
    "two = open('C:/Users/bodie/Documents/thebookofnaturemyths.txt')\n",
    "text = two.read()\n",
    "text2 = text.split()\n",
    "abstracts2 =nltk.Text(text2)\n",
    "\n",
    "\n",
    "three = open('C:/Users/bodie/Documents/thebecaonofsecondreader.txt')\n",
    "text = three.read()\n",
    "text3 = text.split()\n",
    "abstracts3 =nltk.Text(text3)\n",
    "\n",
    "print(\"For Text 1, the lexical diversity score is: \",lexical_diversity(text1))\n",
    "print(\"For Text 2, the lexical diversity score is: \",lexical_diversity(text2))\n",
    "print(\"For Text 3, the lexical diversity score is: \",lexical_diversity(text3))"
   ]
  },
  {
   "cell_type": "markdown",
   "metadata": {},
   "source": [
    "Based on the scores above, it makes sense The History of Insects has the highest lexical diversity score. \n",
    "I imagine there are millions of insects and the history of insects is rich"
   ]
  },
  {
   "cell_type": "markdown",
   "metadata": {},
   "source": [
    "## Question 4"
   ]
  },
  {
   "cell_type": "code",
   "execution_count": 9,
   "metadata": {},
   "outputs": [
    {
     "name": "stdout",
     "output_type": "stream",
     "text": [
      "For Text 1, the vocabulary size is :  5747\n",
      "For Text 2, the vocabulary size is :  37197\n",
      "For Text 3, the vocabulary size is :  24111\n"
     ]
    }
   ],
   "source": [
    "print(\"For Text 1, the vocabulary size is : \",len(text1))\n",
    "print(\"For Text 2, the vocabulary size is : \",len(text2))\n",
    "print(\"For Text 3, the vocabulary size is : \",len(text3))"
   ]
  },
  {
   "cell_type": "markdown",
   "metadata": {},
   "source": [
    "The results are surpirsing to me because The History of Insects had the highest lexical diversity score.\n",
    "This suggest to me that perhaps the History of Insects is a dense material book. The text is likely contains specific info relating \n",
    "to insects. While, The book of Nature myths explores folk-lore of the human race. There is a lot of overlap in folk-lores, so it makes sense to\n",
    "me that it has the lowest lexical score. I imagine the overlap is quite large so perhaps the overlap in folk-lores explain the text length."
   ]
  },
  {
   "cell_type": "markdown",
   "metadata": {},
   "source": [
    "## Question 5"
   ]
  },
  {
   "cell_type": "markdown",
   "metadata": {},
   "source": [
    "I believe that both measures are better indication of difficulty of each respective text.\n",
    "In example, a document could have a higher lexical diversity score with short text length likely would be easier to comprehend\n",
    "due to it's short length. Despite the text being complex, it is less material to asborb. This assumption would also apply to\n",
    "a low lexical diversity score with long text length. The longer text would like be easier to comprehend since it's light material but\n",
    "yet long. Therefore, if a text had a high lexical diversity score with long text it would require more time to comprehend the material \n",
    "due to the complexity and length of the text."
   ]
  },
  {
   "cell_type": "code",
   "execution_count": null,
   "metadata": {},
   "outputs": [],
   "source": []
  }
 ],
 "metadata": {
  "kernelspec": {
   "display_name": "Python 3",
   "language": "python",
   "name": "python3"
  },
  "language_info": {
   "codemirror_mode": {
    "name": "ipython",
    "version": 3
   },
   "file_extension": ".py",
   "mimetype": "text/x-python",
   "name": "python",
   "nbconvert_exporter": "python",
   "pygments_lexer": "ipython3",
   "version": "3.7.4"
  }
 },
 "nbformat": 4,
 "nbformat_minor": 2
}
