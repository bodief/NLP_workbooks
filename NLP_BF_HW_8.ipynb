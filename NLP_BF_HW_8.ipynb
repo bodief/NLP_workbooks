{
 "cells": [
  {
   "cell_type": "markdown",
   "metadata": {},
   "source": [
    "# Bodie Franklin NLP HW #8"
   ]
  },
  {
   "cell_type": "markdown",
   "metadata": {},
   "source": [
    "## Grab Data from #HW 5"
   ]
  },
  {
   "cell_type": "code",
   "execution_count": 46,
   "metadata": {},
   "outputs": [
    {
     "name": "stdout",
     "output_type": "stream",
     "text": [
      "Wall time: 622 ms\n"
     ]
    }
   ],
   "source": [
    "%%time\n",
    "import bs4 as bs\n",
    "import urllib.request\n",
    "import matplotlib.pyplot  as plt\n",
    "import matplotlib.cm      as cm\n",
    "import seaborn            as sns\n",
    "import itertools\n",
    "import nltk\n",
    "from nltk.tokenize import word_tokenize\n",
    "import pprint\n",
    "import re\n",
    "import pandas as pd\n",
    "from sklearn.feature_extraction.text import CountVectorizer\n",
    "from nltk    import SnowballStemmer\n",
    "from unidecode    import unidecode\n",
    "from sklearn.feature_extraction.text  import TfidfVectorizer\n",
    "from sklearn import cluster\n",
    "import matplotlib.pyplot  as plt"
   ]
  },
  {
   "cell_type": "code",
   "execution_count": 36,
   "metadata": {},
   "outputs": [
    {
     "name": "stdout",
     "output_type": "stream",
     "text": [
      "Wall time: 1min 2s\n"
     ]
    }
   ],
   "source": [
    "%%time\n",
    "\n",
    "reviews = []\n",
    "review_link = []\n",
    "\n",
    "the_dark_knight = \"https://www.imdb.com/title/tt0468569/reviews?ref_=tt_urv\"\n",
    "sauce= urllib.request.urlopen(the_dark_knight).read()\n",
    "soup = bs.BeautifulSoup(sauce,'lxml')\n",
    "    \n",
    "for a in soup.find_all('a',href=True):\n",
    "        reviews.append(a['href'])\n",
    "\n",
    "Infinite = \"https://www.imdb.com/title/tt6654210/reviews?ref_=tt_urv\"\n",
    "sauce= urllib.request.urlopen(Infinite).read()\n",
    "soup = bs.BeautifulSoup(sauce,'lxml')\n",
    "    \n",
    "for a in soup.find_all('a',href=True):\n",
    "        reviews.append(a['href'])\n",
    "        \n",
    "Awake = \"https://www.imdb.com/title/tt10418662/reviews?ref_=tt_urv\"\n",
    "sauce= urllib.request.urlopen(Awake).read()\n",
    "soup = bs.BeautifulSoup(sauce,'lxml')\n",
    "    \n",
    "for a in soup.find_all('a',href=True):\n",
    "        reviews.append(a['href'])\n",
    "        \n",
    "\n",
    "F9 = \"https://www.imdb.com/title/tt5433138/reviews?ref_=tt_urv\"\n",
    "sauce= urllib.request.urlopen(F9).read()\n",
    "soup = bs.BeautifulSoup(sauce,'lxml')\n",
    "    \n",
    "for a in soup.find_all('a',href=True):\n",
    "        reviews.append(a['href'])\n",
    "                \n",
    "\n",
    "hitman_wife = \"https://www.imdb.com/title/tt8385148/reviews?ref_=tt_urv\"\n",
    "sauce= urllib.request.urlopen(hitman_wife).read()\n",
    "soup = bs.BeautifulSoup(sauce,'lxml')\n",
    "    \n",
    "for a in soup.find_all('a',href=True):\n",
    "        reviews.append(a['href'])\n",
    "            \n",
    "\n",
    "    \n",
    "PartialWord =\"/review/\"\n",
    "clean_reviews = list(set([word for word in reviews if word.startswith(PartialWord)]))\n",
    "\n",
    "\n",
    "for i in (clean_reviews):\n",
    "    review_link.append('https://www.imdb.com/'+i+'?ref_=tt_urv')\n",
    "\n",
    "\n",
    "\n",
    "reviews_text = []\n",
    "\n",
    "\n",
    "for i in review_link:\n",
    "    link = i\n",
    "    sauce= urllib.request.urlopen(link).read()\n",
    "    soup = bs.BeautifulSoup(sauce,'lxml')\n",
    "    \n",
    "    for div in soup.find_all('div',class_=\"text show-more__control\"):\n",
    "        reviews_text.append(div.text)"
   ]
  },
  {
   "cell_type": "markdown",
   "metadata": {},
   "source": [
    "## Convert HW 5 results into DATAFRAME"
   ]
  },
  {
   "cell_type": "code",
   "execution_count": 57,
   "metadata": {},
   "outputs": [
    {
     "data": {
      "text/html": [
       "<div>\n",
       "<style scoped>\n",
       "    .dataframe tbody tr th:only-of-type {\n",
       "        vertical-align: middle;\n",
       "    }\n",
       "\n",
       "    .dataframe tbody tr th {\n",
       "        vertical-align: top;\n",
       "    }\n",
       "\n",
       "    .dataframe thead th {\n",
       "        text-align: right;\n",
       "    }\n",
       "</style>\n",
       "<table border=\"1\" class=\"dataframe\">\n",
       "  <thead>\n",
       "    <tr style=\"text-align: right;\">\n",
       "      <th></th>\n",
       "      <th>review</th>\n",
       "    </tr>\n",
       "  </thead>\n",
       "  <tbody>\n",
       "    <tr>\n",
       "      <td>0</td>\n",
       "      <td>unless like hear word everi sentenc movi n't s...</td>\n",
       "    </tr>\n",
       "    <tr>\n",
       "      <td>1</td>\n",
       "      <td>walk thirti minut could n't take anymor amount...</td>\n",
       "    </tr>\n",
       "    <tr>\n",
       "      <td>2</td>\n",
       "      <td>wow critic went real hard one fulli engag stat...</td>\n",
       "    </tr>\n",
       "    <tr>\n",
       "      <td>3</td>\n",
       "      <td>movi could n't hold interest much finish hope ...</td>\n",
       "    </tr>\n",
       "    <tr>\n",
       "      <td>4</td>\n",
       "      <td>movi interest premis like greenland anoth disa...</td>\n",
       "    </tr>\n",
       "  </tbody>\n",
       "</table>\n",
       "</div>"
      ],
      "text/plain": [
       "                                              review\n",
       "0  unless like hear word everi sentenc movi n't s...\n",
       "1  walk thirti minut could n't take anymor amount...\n",
       "2  wow critic went real hard one fulli engag stat...\n",
       "3  movi could n't hold interest much finish hope ...\n",
       "4  movi interest premis like greenland anoth disa..."
      ]
     },
     "execution_count": 57,
     "metadata": {},
     "output_type": "execute_result"
    }
   ],
   "source": [
    "reviews = pd.DataFrame(reviews_text,columns=['review'])\n",
    "reviews.head()"
   ]
  },
  {
   "cell_type": "markdown",
   "metadata": {},
   "source": [
    "## Grab Clustering Code"
   ]
  },
  {
   "cell_type": "code",
   "execution_count": 44,
   "metadata": {},
   "outputs": [
    {
     "name": "stdout",
     "output_type": "stream",
     "text": [
      "Wall time: 0 ns\n"
     ]
    }
   ],
   "source": [
    "%%time\n",
    "# removes a list of words (ie. stopwords) from a tokenized list.\n",
    "def removeWords(listOfTokens, listOfWords):\n",
    "    return [token for token in listOfTokens if token not in listOfWords]\n",
    "\n",
    "# applies stemming to a list of tokenized words\n",
    "def applyStemming(listOfTokens, stemmer):\n",
    "    return [stemmer.stem(token) for token in listOfTokens]\n",
    "\n",
    "# removes any words composed of less than 2 or more than 21 letters\n",
    "def twoLetters(listOfTokens):\n",
    "    twoLetterWord = []\n",
    "    for token in listOfTokens:\n",
    "        if len(token) <= 2 or len(token) >= 21:\n",
    "            twoLetterWord.append(token)\n",
    "    return twoLetterWord\n",
    "\n",
    "def processCorpus(corpus, language):   \n",
    "    stopwords = nltk.corpus.stopwords.words(language)\n",
    "    param_stemmer = SnowballStemmer(language)\n",
    "    \n",
    "    \n",
    "    for document in corpus:\n",
    "        index = corpus.index(document)\n",
    "        corpus[index] = corpus[index].replace(u'\\ufffd', '8')   # Replaces the ASCII '�' symbol with '8'\n",
    "        corpus[index] = corpus[index].replace(',', '')          # Removes commas\n",
    "        corpus[index] = corpus[index].rstrip('\\n')              # Removes line breaks\n",
    "        corpus[index] = corpus[index].casefold()                # Makes all letters lowercase\n",
    "        \n",
    "        corpus[index] = re.sub('\\W_',' ', corpus[index])        # removes specials characters and leaves only words\n",
    "        corpus[index] = re.sub(\"\\S*\\d\\S*\",\" \", corpus[index])   # removes numbers and words concatenated with numbers IE h4ck3r. Removes road names such as BR-381.\n",
    "        corpus[index] = re.sub(\"\\S*@\\S*\\s?\",\" \", corpus[index]) # removes emails and mentions (words with @)\n",
    "        corpus[index] = re.sub(r'http\\S+', '', corpus[index])   # removes URLs with http\n",
    "        corpus[index] = re.sub(r'www\\S+', '', corpus[index])    # removes URLs with www\n",
    "\n",
    "        listOfTokens = word_tokenize(corpus[index])\n",
    "        twoLetterWord = twoLetters(listOfTokens)\n",
    "\n",
    "        listOfTokens = removeWords(listOfTokens, stopwords)\n",
    "        listOfTokens = removeWords(listOfTokens, twoLetterWord)\n",
    "        listOfTokens = applyStemming(listOfTokens, param_stemmer)\n",
    "        corpus[index]   = \" \".join(listOfTokens)\n",
    "        corpus[index] = unidecode(corpus[index])\n",
    "\n",
    "    return corpus"
   ]
  },
  {
   "cell_type": "code",
   "execution_count": 48,
   "metadata": {},
   "outputs": [
    {
     "name": "stdout",
     "output_type": "stream",
     "text": [
      "125 rows\n",
      "Wall time: 227 ms\n"
     ]
    },
    {
     "data": {
      "text/html": [
       "<div>\n",
       "<style scoped>\n",
       "    .dataframe tbody tr th:only-of-type {\n",
       "        vertical-align: middle;\n",
       "    }\n",
       "\n",
       "    .dataframe tbody tr th {\n",
       "        vertical-align: top;\n",
       "    }\n",
       "\n",
       "    .dataframe thead th {\n",
       "        text-align: right;\n",
       "    }\n",
       "</style>\n",
       "<table border=\"1\" class=\"dataframe\">\n",
       "  <thead>\n",
       "    <tr style=\"text-align: right;\">\n",
       "      <th></th>\n",
       "      <th>0</th>\n",
       "      <th>1</th>\n",
       "      <th>2</th>\n",
       "      <th>3</th>\n",
       "      <th>4</th>\n",
       "      <th>5</th>\n",
       "      <th>6</th>\n",
       "      <th>7</th>\n",
       "      <th>8</th>\n",
       "      <th>9</th>\n",
       "      <th>...</th>\n",
       "      <th>115</th>\n",
       "      <th>116</th>\n",
       "      <th>117</th>\n",
       "      <th>118</th>\n",
       "      <th>119</th>\n",
       "      <th>120</th>\n",
       "      <th>121</th>\n",
       "      <th>122</th>\n",
       "      <th>123</th>\n",
       "      <th>124</th>\n",
       "    </tr>\n",
       "  </thead>\n",
       "  <tbody>\n",
       "    <tr>\n",
       "      <td>schooler</td>\n",
       "      <td>0.285804</td>\n",
       "      <td>0.0</td>\n",
       "      <td>0.000000</td>\n",
       "      <td>0.0</td>\n",
       "      <td>0.0</td>\n",
       "      <td>0.000000</td>\n",
       "      <td>0.0</td>\n",
       "      <td>0.0</td>\n",
       "      <td>0.0</td>\n",
       "      <td>0.0</td>\n",
       "      <td>...</td>\n",
       "      <td>0.0</td>\n",
       "      <td>0.0</td>\n",
       "      <td>0.0</td>\n",
       "      <td>0.0</td>\n",
       "      <td>0.0</td>\n",
       "      <td>0.0</td>\n",
       "      <td>0.0</td>\n",
       "      <td>0.0</td>\n",
       "      <td>0.0</td>\n",
       "      <td>0.0</td>\n",
       "    </tr>\n",
       "    <tr>\n",
       "      <td>sentenc</td>\n",
       "      <td>0.285804</td>\n",
       "      <td>0.0</td>\n",
       "      <td>0.000000</td>\n",
       "      <td>0.0</td>\n",
       "      <td>0.0</td>\n",
       "      <td>0.000000</td>\n",
       "      <td>0.0</td>\n",
       "      <td>0.0</td>\n",
       "      <td>0.0</td>\n",
       "      <td>0.0</td>\n",
       "      <td>...</td>\n",
       "      <td>0.0</td>\n",
       "      <td>0.0</td>\n",
       "      <td>0.0</td>\n",
       "      <td>0.0</td>\n",
       "      <td>0.0</td>\n",
       "      <td>0.0</td>\n",
       "      <td>0.0</td>\n",
       "      <td>0.0</td>\n",
       "      <td>0.0</td>\n",
       "      <td>0.0</td>\n",
       "    </tr>\n",
       "    <tr>\n",
       "      <td>middl</td>\n",
       "      <td>0.263272</td>\n",
       "      <td>0.0</td>\n",
       "      <td>0.000000</td>\n",
       "      <td>0.0</td>\n",
       "      <td>0.0</td>\n",
       "      <td>0.000000</td>\n",
       "      <td>0.0</td>\n",
       "      <td>0.0</td>\n",
       "      <td>0.0</td>\n",
       "      <td>0.0</td>\n",
       "      <td>...</td>\n",
       "      <td>0.0</td>\n",
       "      <td>0.0</td>\n",
       "      <td>0.0</td>\n",
       "      <td>0.0</td>\n",
       "      <td>0.0</td>\n",
       "      <td>0.0</td>\n",
       "      <td>0.0</td>\n",
       "      <td>0.0</td>\n",
       "      <td>0.0</td>\n",
       "      <td>0.0</td>\n",
       "    </tr>\n",
       "    <tr>\n",
       "      <td>annoy</td>\n",
       "      <td>0.247286</td>\n",
       "      <td>0.0</td>\n",
       "      <td>0.000000</td>\n",
       "      <td>0.0</td>\n",
       "      <td>0.0</td>\n",
       "      <td>0.000000</td>\n",
       "      <td>0.0</td>\n",
       "      <td>0.0</td>\n",
       "      <td>0.0</td>\n",
       "      <td>0.0</td>\n",
       "      <td>...</td>\n",
       "      <td>0.0</td>\n",
       "      <td>0.0</td>\n",
       "      <td>0.0</td>\n",
       "      <td>0.0</td>\n",
       "      <td>0.0</td>\n",
       "      <td>0.0</td>\n",
       "      <td>0.0</td>\n",
       "      <td>0.0</td>\n",
       "      <td>0.0</td>\n",
       "      <td>0.0</td>\n",
       "    </tr>\n",
       "    <tr>\n",
       "      <td>hear</td>\n",
       "      <td>0.234886</td>\n",
       "      <td>0.0</td>\n",
       "      <td>0.081488</td>\n",
       "      <td>0.0</td>\n",
       "      <td>0.0</td>\n",
       "      <td>0.160359</td>\n",
       "      <td>0.0</td>\n",
       "      <td>0.0</td>\n",
       "      <td>0.0</td>\n",
       "      <td>0.0</td>\n",
       "      <td>...</td>\n",
       "      <td>0.0</td>\n",
       "      <td>0.0</td>\n",
       "      <td>0.0</td>\n",
       "      <td>0.0</td>\n",
       "      <td>0.0</td>\n",
       "      <td>0.0</td>\n",
       "      <td>0.0</td>\n",
       "      <td>0.0</td>\n",
       "      <td>0.0</td>\n",
       "      <td>0.0</td>\n",
       "    </tr>\n",
       "  </tbody>\n",
       "</table>\n",
       "<p>5 rows × 125 columns</p>\n",
       "</div>"
      ],
      "text/plain": [
       "               0    1         2    3    4         5    6    7    8    9    \\\n",
       "schooler  0.285804  0.0  0.000000  0.0  0.0  0.000000  0.0  0.0  0.0  0.0   \n",
       "sentenc   0.285804  0.0  0.000000  0.0  0.0  0.000000  0.0  0.0  0.0  0.0   \n",
       "middl     0.263272  0.0  0.000000  0.0  0.0  0.000000  0.0  0.0  0.0  0.0   \n",
       "annoy     0.247286  0.0  0.000000  0.0  0.0  0.000000  0.0  0.0  0.0  0.0   \n",
       "hear      0.234886  0.0  0.081488  0.0  0.0  0.160359  0.0  0.0  0.0  0.0   \n",
       "\n",
       "          ...  115  116  117  118  119  120  121  122  123  124  \n",
       "schooler  ...  0.0  0.0  0.0  0.0  0.0  0.0  0.0  0.0  0.0  0.0  \n",
       "sentenc   ...  0.0  0.0  0.0  0.0  0.0  0.0  0.0  0.0  0.0  0.0  \n",
       "middl     ...  0.0  0.0  0.0  0.0  0.0  0.0  0.0  0.0  0.0  0.0  \n",
       "annoy     ...  0.0  0.0  0.0  0.0  0.0  0.0  0.0  0.0  0.0  0.0  \n",
       "hear      ...  0.0  0.0  0.0  0.0  0.0  0.0  0.0  0.0  0.0  0.0  \n",
       "\n",
       "[5 rows x 125 columns]"
      ]
     },
     "execution_count": 48,
     "metadata": {},
     "output_type": "execute_result"
    }
   ],
   "source": [
    "%%time\n",
    "language = 'english'\n",
    "corpus = processCorpus(reviews_text, language)\n",
    "vectorizer = TfidfVectorizer()\n",
    "X = vectorizer.fit_transform(corpus)\n",
    "tf_idf = pd.DataFrame(data = X.toarray(), columns=vectorizer.get_feature_names())\n",
    "\n",
    "final_df = tf_idf\n",
    "\n",
    "print(\"{} rows\".format(final_df.shape[0]))\n",
    "final_df.T.nlargest(5, 0)"
   ]
  },
  {
   "cell_type": "code",
   "execution_count": 53,
   "metadata": {},
   "outputs": [
    {
     "name": "stdout",
     "output_type": "stream",
     "text": [
      "Wall time: 16.6 ms\n",
      "Wall time: 59.8 ms\n"
     ]
    },
    {
     "data": {
      "text/plain": [
       "<matplotlib.collections.PathCollection at 0x1e2e0e1eb88>"
      ]
     },
     "execution_count": 53,
     "metadata": {},
     "output_type": "execute_result"
    },
    {
     "data": {
      "image/png": "[encoded data removed]",
      "text/plain": [
       "<Figure size 432x288 with 1 Axes>"
      ]
     },
     "metadata": {
      "needs_background": "light"
     },
     "output_type": "display_data"
    }
   ],
   "source": [
    "%%time\n",
    "from sklearn.cluster import KMeans\n",
    "from sklearn.decomposition import PCA\n",
    "\n",
    "n_clusters = 5\n",
    "sklearn_pca = PCA(n_components = 2)\n",
    "Y_sklearn = sklearn_pca.fit_transform(final_df)\n",
    "kmeans = KMeans(n_clusters= n_clusters, max_iter=600, algorithm = 'auto')\n",
    "%time fitted = kmeans.fit(Y_sklearn)\n",
    "prediction = kmeans.predict(Y_sklearn)\n",
    "\n",
    "plt.scatter(Y_sklearn[:, 0], Y_sklearn[:, 1],c=prediction ,s=50, cmap='viridis')\n",
    "\n",
    "centers2 = fitted.cluster_centers_\n",
    "plt.scatter(centers2[:, 0], centers2[:, 1],c='black', s=300, alpha=0.6)"
   ]
  },
  {
   "cell_type": "code",
   "execution_count": 54,
   "metadata": {},
   "outputs": [
    {
     "name": "stdout",
     "output_type": "stream",
     "text": [
      "Wall time: 13.1 ms\n",
      "Wall time: 42.7 ms\n"
     ]
    },
    {
     "name": "stderr",
     "output_type": "stream",
     "text": [
      "C:\\Users\\bodie\\Anaconda3\\lib\\site-packages\\sklearn\\cluster\\_kmeans.py:793: FutureWarning: 'n_jobs' was deprecated in version 0.23 and will be removed in 1.0 (renaming of 0.25).\n",
      "  \" removed in 1.0 (renaming of 0.25).\", FutureWarning)\n"
     ]
    },
    {
     "data": {
      "text/plain": [
       "<matplotlib.collections.PathCollection at 0x1e2eea9e608>"
      ]
     },
     "execution_count": 54,
     "metadata": {},
     "output_type": "execute_result"
    },
    {
     "data": {
      "image/png": "[encoded data removed]",
      "text/plain": [
       "<Figure size 432x288 with 1 Axes>"
      ]
     },
     "metadata": {
      "needs_background": "light"
     },
     "output_type": "display_data"
    }
   ],
   "source": [
    "%%time\n",
    "from sklearn.cluster import DBSCAN\n",
    "\n",
    "n_clusters = 5\n",
    "sklearn_pca = PCA(n_components = 2)\n",
    "Y_sklearn = sklearn_pca.fit_transform(final_df)\n",
    "kmeans = KMeans(\n",
    "    init='k-means++',    \n",
    "    n_clusters=n_clusters,    \n",
    "    n_init=1,         \n",
    "    n_jobs=-1)\n",
    "%time fitted = kmeans.fit(Y_sklearn)\n",
    "prediction = kmeans.predict(Y_sklearn)\n",
    "\n",
    "plt.scatter(Y_sklearn[:, 0], Y_sklearn[:, 1],c=prediction ,s=50, cmap='viridis')\n",
    "\n",
    "centers2 = fitted.cluster_centers_\n",
    "plt.scatter(centers2[:, 0], centers2[:, 1],c='black', s=300, alpha=0.6)"
   ]
  },
  {
   "cell_type": "markdown",
   "metadata": {},
   "source": [
    "## Build sentiment analyzer from Course Book"
   ]
  },
  {
   "cell_type": "code",
   "execution_count": 31,
   "metadata": {},
   "outputs": [
    {
     "name": "stdout",
     "output_type": "stream",
     "text": [
      "Wall time: 0 ns\n"
     ]
    }
   ],
   "source": [
    "%%time\n",
    "from sklearn import metrics\n",
    "from sklearn.feature_extraction.text import CountVectorizer, TfidfVectorizer \n",
    "import numpy as np\n",
    "import pandas as pd \n",
    "import nltk\n",
    "\n",
    "\n",
    "wpt = nltk.WordPunctTokenizer()\n",
    "stop_words = nltk.corpus.stopwords.words('english')\n",
    "\n",
    "def normalize_document(doc):\n",
    "    # lower case and remove special characters\\whitespaces\n",
    "    doc = re.sub(r'[^a-zA-Z\\s]', '', doc, re.I|re.A)\n",
    "    doc = doc.lower()\n",
    "    doc = doc.strip()\n",
    "    # tokenize document\n",
    "    tokens = wpt.tokenize(doc)\n",
    "    # filter stopwords out of document\n",
    "    filtered_tokens = [token for token in tokens if token not in stop_words]\n",
    "    # re-create document from filtered tokens\n",
    "    doc = ' '.join(filtered_tokens)\n",
    "    return doc\n",
    "\n",
    "normalize_corpus = np.vectorize(normalize_document)\n",
    "\n",
    "def display_evaluation_metrics(true_labels, predicted_labels, positive_class=1): \n",
    "    print('Accuracy:', np.round(metrics.accuracy_score(true_labels,predicted_labels)))\n",
    "    print('Precision:', np.round( metrics.precision_score(true_labels, predicted_labels, pos_label=positive_class, average='binary')))\n",
    "    print('Recall:', np.round( metrics.recall_score(true_labels, predicted_labels, pos_label=positive_class, average='binary')))\n",
    "    print('F1 Score:', np.round( metrics.f1_score(true_labels, predicted_labels, pos_label=positive_class, average='binary')))\n",
    "\n",
    "\n",
    "\n",
    "from sklearn.feature_extraction.text import CountVectorizer, TfidfVectorizer \n",
    "\n",
    "def build_feature_matrix(documents, feature_type='frequency', \n",
    "                         ngram_range=(1, 1), min_df=0.0, max_df=1.0): \n",
    "    feature_type = feature_type.lower().strip()   \n",
    "    if feature_type == 'binary': \n",
    "        vectorizer = CountVectorizer(binary=True, min_df=min_df, \n",
    "                                     max_df=max_df, ngram_range=ngram_range) \n",
    "    elif feature_type == 'frequency': \n",
    "        vectorizer = CountVectorizer(binary=False, min_df=min_df, \n",
    "                                         max_df=max_df, ngram_range=ngram_range)\n",
    "    elif feature_type == 'tfidf': \n",
    "        vectorizer = TfidfVectorizer(min_df=min_df, max_df=max_df, ngram_range=ngram_range) \n",
    "    else: \n",
    "            raise Exception(\"Wrong feature type entered. Possible values: 'binary', 'frequency', 'tfidf'\") \n",
    "            \n",
    "    feature_matrix = vectorizer.fit_transform(documents).astype(float) \n",
    "        \n",
    "    return vectorizer, feature_matrix\n",
    "    \n"
   ]
  },
  {
   "cell_type": "code",
   "execution_count": 41,
   "metadata": {},
   "outputs": [
    {
     "name": "stdout",
     "output_type": "stream",
     "text": [
      "                                              review sentiment\n",
      "0  \"One of the other reviewers has mentioned that...  positive\n",
      "1  \"A wonderful little production. <br /><br />Th...  positive\n",
      "2  \"I thought this was a wonderful way to spend t...  positive\n",
      "3  \"Basically there's a family where a little boy...  negative\n",
      "4  \"Petter Mattei's \"\"Love in the Time of Money\"\"...  positive\n",
      "Wall time: 29.3 s\n"
     ]
    }
   ],
   "source": [
    "%%time\n",
    "import pandas as pd\n",
    "import numpy as np\n",
    "\n",
    "from sklearn.linear_model import SGDClassifier\n",
    "\n",
    "dataset = pd.read_excel(\"C:/Users/bodie/Documents/Movies_Data.xlsx\")\n",
    "\n",
    "print(dataset.head())\n",
    "\n",
    "train_data = dataset[:35000]\n",
    "test_data = dataset[35000:]\n",
    "\n",
    "train_reviews = np.array(train_data['review'])\n",
    "train_sentiments = np.array(train_data['sentiment'])\n",
    "test_reviews = np.array(test_data['review'])\n",
    "test_sentiments = np.array(test_data['sentiment'])\n",
    "\n",
    "\n",
    "sample_docs = [100, 5817, 7626, 7356, 1008, 7155, 3533, 13010]\n",
    "sample_data = [(test_reviews[index],\n",
    "                test_sentiments[index])\n",
    "                  for index in sample_docs]\n",
    "\n",
    "sample_data    \n",
    "\n",
    "# normalization\n",
    "norm_train_reviews = normalize_corpus(train_reviews)\n",
    "                                    \n",
    "\n",
    "# feature extraction                                                                            \n",
    "vectorizer, train_features = build_feature_matrix(documents=norm_train_reviews,\n",
    "                                                  feature_type='tfidf',\n",
    "                                                  ngram_range=(1, 1), \n",
    "                                                  min_df=0.0, max_df=1.0)                                      \n",
    "                                      \n",
    "                                      \n",
    "\n",
    "svm = SGDClassifier(loss='hinge', max_iter=500)\n",
    "svm.fit(train_features, train_sentiments)\n",
    "\n",
    "\n",
    "\n",
    "# normalize reviews                        \n",
    "norm_test_reviews = normalize_corpus(test_reviews)\n",
    "                                      \n",
    "# extract features                                     \n",
    "test_features = vectorizer.transform(norm_test_reviews)\n",
    "\n",
    "predicted_sentiments = svm.predict(test_features) "
   ]
  },
  {
   "cell_type": "markdown",
   "metadata": {},
   "source": [
    "# Question 1"
   ]
  },
  {
   "cell_type": "code",
   "execution_count": 43,
   "metadata": {},
   "outputs": [
    {
     "name": "stdout",
     "output_type": "stream",
     "text": [
      "Wall time: 37.1 ms\n"
     ]
    },
    {
     "data": {
      "text/plain": [
       "array(['negative', 'negative', 'positive', 'negative', 'negative',\n",
       "       'negative', 'negative', 'negative', 'negative', 'negative',\n",
       "       'negative', 'negative', 'positive', 'negative', 'negative',\n",
       "       'positive', 'positive', 'negative', 'positive', 'negative',\n",
       "       'negative', 'negative', 'negative', 'positive', 'positive',\n",
       "       'negative', 'positive', 'positive', 'negative', 'negative',\n",
       "       'negative', 'positive', 'negative', 'negative', 'positive',\n",
       "       'negative', 'negative', 'negative', 'negative', 'positive',\n",
       "       'negative', 'positive', 'negative', 'negative', 'positive',\n",
       "       'negative', 'negative', 'positive', 'positive', 'negative',\n",
       "       'negative', 'negative', 'negative', 'negative', 'positive',\n",
       "       'positive', 'negative', 'positive', 'negative', 'negative',\n",
       "       'negative', 'negative', 'positive', 'negative', 'positive',\n",
       "       'positive', 'negative', 'positive', 'negative', 'positive',\n",
       "       'positive', 'negative', 'negative', 'positive', 'positive',\n",
       "       'negative', 'negative', 'negative', 'negative', 'negative',\n",
       "       'positive', 'positive', 'negative', 'positive', 'negative',\n",
       "       'negative', 'negative', 'negative', 'positive', 'positive',\n",
       "       'negative', 'negative', 'positive', 'positive', 'negative',\n",
       "       'positive', 'positive', 'negative', 'negative', 'negative',\n",
       "       'negative', 'negative', 'negative', 'positive', 'negative',\n",
       "       'positive', 'negative', 'negative', 'negative', 'negative',\n",
       "       'positive', 'negative', 'negative', 'positive', 'positive',\n",
       "       'positive', 'positive', 'positive', 'positive', 'negative',\n",
       "       'negative', 'negative', 'negative', 'negative', 'negative'],\n",
       "      dtype='<U8')"
      ]
     },
     "execution_count": 43,
     "metadata": {},
     "output_type": "execute_result"
    }
   ],
   "source": [
    "%%time\n",
    "HW_FIVE_reviews = np.array(reviews['review'])\n",
    "\n",
    "HW_FIVE_reviews_norm = normalize_corpus(HW_FIVE_reviews)\n",
    "                                    \n",
    "HW_FIVE_reviews_norm = vectorizer.transform(HW_FIVE_reviews_norm)\n",
    "    \n",
    "predicted_HW5_sentiemnts =  svm.predict(HW_FIVE_reviews_norm)                                     \n",
    "                                      \n",
    "                                      \n",
    "predicted_HW5_sentiemnts"
   ]
  },
  {
   "cell_type": "markdown",
   "metadata": {},
   "source": [
    "I spot check some of the reviews to determine sentiment  and it seemed to be inline. Therefore, I felt no adjustment wasn't\n",
    "needed. I did not add any words to the sentiment vocabulary."
   ]
  },
  {
   "cell_type": "markdown",
   "metadata": {},
   "source": [
    "#  Question  2 "
   ]
  },
  {
   "cell_type": "code",
   "execution_count": 52,
   "metadata": {},
   "outputs": [
    {
     "name": "stdout",
     "output_type": "stream",
     "text": [
      "Wall time: 2.03 ms\n"
     ]
    }
   ],
   "source": [
    "%%time\n",
    "from nltk.sentiment.vader import SentimentIntensityAnalyzer\n",
    "sid = SentimentIntensityAnalyzer()"
   ]
  },
  {
   "cell_type": "code",
   "execution_count": 58,
   "metadata": {},
   "outputs": [
    {
     "data": {
      "text/plain": [
       "0    {'neg': 0.24, 'neu': 0.608, 'pos': 0.152, 'com...\n",
       "1    {'neg': 0.094, 'neu': 0.831, 'pos': 0.075, 'co...\n",
       "2    {'neg': 0.075, 'neu': 0.683, 'pos': 0.243, 'co...\n",
       "3    {'neg': 0.273, 'neu': 0.421, 'pos': 0.306, 'co...\n",
       "4    {'neg': 0.029, 'neu': 0.7, 'pos': 0.271, 'comp...\n",
       "Name: review, dtype: object"
      ]
     },
     "execution_count": 58,
     "metadata": {},
     "output_type": "execute_result"
    }
   ],
   "source": [
    "scores = reviews['review'].apply(lambda review: sid.polarity_scores(review))\n",
    "\n",
    "scores.head()"
   ]
  },
  {
   "cell_type": "markdown",
   "metadata": {},
   "source": [
    "This doesn't reveal anything unique or shocking about the clusters. It seems to be inline with the clusters. It is interesting\n",
    "to see how a review can have partial tone to it. In other words, the text can have neutural attributes, postivite attributes and negative attributes. Therefore it reflects the complexity of the english language very well.\n"
   ]
  },
  {
   "cell_type": "markdown",
   "metadata": {},
   "source": [
    "# Question 3"
   ]
  },
  {
   "cell_type": "markdown",
   "metadata": {},
   "source": [
    "## Part A"
   ]
  },
  {
   "cell_type": "code",
   "execution_count": 60,
   "metadata": {},
   "outputs": [
    {
     "data": {
      "text/html": [
       "<div>\n",
       "<style scoped>\n",
       "    .dataframe tbody tr th:only-of-type {\n",
       "        vertical-align: middle;\n",
       "    }\n",
       "\n",
       "    .dataframe tbody tr th {\n",
       "        vertical-align: top;\n",
       "    }\n",
       "\n",
       "    .dataframe thead th {\n",
       "        text-align: right;\n",
       "    }\n",
       "</style>\n",
       "<table border=\"1\" class=\"dataframe\">\n",
       "  <thead>\n",
       "    <tr style=\"text-align: right;\">\n",
       "      <th></th>\n",
       "      <th>review</th>\n",
       "      <th>scores</th>\n",
       "    </tr>\n",
       "  </thead>\n",
       "  <tbody>\n",
       "    <tr>\n",
       "      <td>0</td>\n",
       "      <td>unless like hear word everi sentenc movi n't s...</td>\n",
       "      <td>{'neg': 0.24, 'neu': 0.608, 'pos': 0.152, 'com...</td>\n",
       "    </tr>\n",
       "    <tr>\n",
       "      <td>1</td>\n",
       "      <td>walk thirti minut could n't take anymor amount...</td>\n",
       "      <td>{'neg': 0.094, 'neu': 0.831, 'pos': 0.075, 'co...</td>\n",
       "    </tr>\n",
       "    <tr>\n",
       "      <td>2</td>\n",
       "      <td>wow critic went real hard one fulli engag stat...</td>\n",
       "      <td>{'neg': 0.075, 'neu': 0.683, 'pos': 0.243, 'co...</td>\n",
       "    </tr>\n",
       "    <tr>\n",
       "      <td>3</td>\n",
       "      <td>movi could n't hold interest much finish hope ...</td>\n",
       "      <td>{'neg': 0.273, 'neu': 0.421, 'pos': 0.306, 'co...</td>\n",
       "    </tr>\n",
       "    <tr>\n",
       "      <td>4</td>\n",
       "      <td>movi interest premis like greenland anoth disa...</td>\n",
       "      <td>{'neg': 0.029, 'neu': 0.7, 'pos': 0.271, 'comp...</td>\n",
       "    </tr>\n",
       "  </tbody>\n",
       "</table>\n",
       "</div>"
      ],
      "text/plain": [
       "                                              review  \\\n",
       "0  unless like hear word everi sentenc movi n't s...   \n",
       "1  walk thirti minut could n't take anymor amount...   \n",
       "2  wow critic went real hard one fulli engag stat...   \n",
       "3  movi could n't hold interest much finish hope ...   \n",
       "4  movi interest premis like greenland anoth disa...   \n",
       "\n",
       "                                              scores  \n",
       "0  {'neg': 0.24, 'neu': 0.608, 'pos': 0.152, 'com...  \n",
       "1  {'neg': 0.094, 'neu': 0.831, 'pos': 0.075, 'co...  \n",
       "2  {'neg': 0.075, 'neu': 0.683, 'pos': 0.243, 'co...  \n",
       "3  {'neg': 0.273, 'neu': 0.421, 'pos': 0.306, 'co...  \n",
       "4  {'neg': 0.029, 'neu': 0.7, 'pos': 0.271, 'comp...  "
      ]
     },
     "execution_count": 60,
     "metadata": {},
     "output_type": "execute_result"
    }
   ],
   "source": [
    "reviews['scores'] = reviews['review'].apply(lambda review: sid.polarity_scores(review))\n",
    "reviews.head()"
   ]
  },
  {
   "cell_type": "markdown",
   "metadata": {},
   "source": [
    "## Part B"
   ]
  },
  {
   "cell_type": "code",
   "execution_count": 66,
   "metadata": {},
   "outputs": [],
   "source": [
    "reviews['compound'] = reviews['scores'].apply(lambda score_dict: score_dict['compound'])\n",
    "reviews['sentiment_type']=''\n",
    "reviews.loc[reviews['compound'] >0,'sentiment_type']='POSITIVE'\n",
    "reviews.loc[reviews['compound']==0,'sentiment_type']='NEUTRAL'\n",
    "reviews.loc[reviews['compound']<0,'sentiment_type']='NEGATIVE'"
   ]
  },
  {
   "cell_type": "code",
   "execution_count": 67,
   "metadata": {},
   "outputs": [
    {
     "data": {
      "text/html": [
       "<div>\n",
       "<style scoped>\n",
       "    .dataframe tbody tr th:only-of-type {\n",
       "        vertical-align: middle;\n",
       "    }\n",
       "\n",
       "    .dataframe tbody tr th {\n",
       "        vertical-align: top;\n",
       "    }\n",
       "\n",
       "    .dataframe thead th {\n",
       "        text-align: right;\n",
       "    }\n",
       "</style>\n",
       "<table border=\"1\" class=\"dataframe\">\n",
       "  <thead>\n",
       "    <tr style=\"text-align: right;\">\n",
       "      <th></th>\n",
       "      <th>review</th>\n",
       "      <th>scores</th>\n",
       "      <th>compound</th>\n",
       "      <th>sentiment_type</th>\n",
       "    </tr>\n",
       "  </thead>\n",
       "  <tbody>\n",
       "    <tr>\n",
       "      <td>0</td>\n",
       "      <td>unless like hear word everi sentenc movi n't s...</td>\n",
       "      <td>{'neg': 0.24, 'neu': 0.608, 'pos': 0.152, 'com...</td>\n",
       "      <td>-0.4404</td>\n",
       "      <td>NEGATIVE</td>\n",
       "    </tr>\n",
       "    <tr>\n",
       "      <td>1</td>\n",
       "      <td>walk thirti minut could n't take anymor amount...</td>\n",
       "      <td>{'neg': 0.094, 'neu': 0.831, 'pos': 0.075, 'co...</td>\n",
       "      <td>-0.1779</td>\n",
       "      <td>NEGATIVE</td>\n",
       "    </tr>\n",
       "    <tr>\n",
       "      <td>2</td>\n",
       "      <td>wow critic went real hard one fulli engag stat...</td>\n",
       "      <td>{'neg': 0.075, 'neu': 0.683, 'pos': 0.243, 'co...</td>\n",
       "      <td>0.9800</td>\n",
       "      <td>POSITIVE</td>\n",
       "    </tr>\n",
       "    <tr>\n",
       "      <td>3</td>\n",
       "      <td>movi could n't hold interest much finish hope ...</td>\n",
       "      <td>{'neg': 0.273, 'neu': 0.421, 'pos': 0.306, 'co...</td>\n",
       "      <td>0.1581</td>\n",
       "      <td>POSITIVE</td>\n",
       "    </tr>\n",
       "    <tr>\n",
       "      <td>4</td>\n",
       "      <td>movi interest premis like greenland anoth disa...</td>\n",
       "      <td>{'neg': 0.029, 'neu': 0.7, 'pos': 0.271, 'comp...</td>\n",
       "      <td>0.9916</td>\n",
       "      <td>POSITIVE</td>\n",
       "    </tr>\n",
       "    <tr>\n",
       "      <td>...</td>\n",
       "      <td>...</td>\n",
       "      <td>...</td>\n",
       "      <td>...</td>\n",
       "      <td>...</td>\n",
       "    </tr>\n",
       "    <tr>\n",
       "      <td>120</td>\n",
       "      <td>movi dumb rock plot nonsens charact motiv none...</td>\n",
       "      <td>{'neg': 0.216, 'neu': 0.584, 'pos': 0.2, 'comp...</td>\n",
       "      <td>-0.0961</td>\n",
       "      <td>NEGATIVE</td>\n",
       "    </tr>\n",
       "    <tr>\n",
       "      <td>121</td>\n",
       "      <td>dull dull dull.a great premis ruin pedestrian ...</td>\n",
       "      <td>{'neg': 0.422, 'neu': 0.352, 'pos': 0.226, 'co...</td>\n",
       "      <td>-0.8591</td>\n",
       "      <td>NEGATIVE</td>\n",
       "    </tr>\n",
       "    <tr>\n",
       "      <td>122</td>\n",
       "      <td>premis peopl reincarn memori past live cool fa...</td>\n",
       "      <td>{'neg': 0.152, 'neu': 0.713, 'pos': 0.135, 'co...</td>\n",
       "      <td>-0.1531</td>\n",
       "      <td>NEGATIVE</td>\n",
       "    </tr>\n",
       "    <tr>\n",
       "      <td>123</td>\n",
       "      <td>absolut dread movi complet disrespect audienc ...</td>\n",
       "      <td>{'neg': 0.274, 'neu': 0.658, 'pos': 0.068, 'co...</td>\n",
       "      <td>-0.8750</td>\n",
       "      <td>NEGATIVE</td>\n",
       "    </tr>\n",
       "    <tr>\n",
       "      <td>124</td>\n",
       "      <td>peopl compar awak bird box bullock wherea high...</td>\n",
       "      <td>{'neg': 0.11, 'neu': 0.755, 'pos': 0.135, 'com...</td>\n",
       "      <td>0.0258</td>\n",
       "      <td>POSITIVE</td>\n",
       "    </tr>\n",
       "  </tbody>\n",
       "</table>\n",
       "<p>125 rows × 4 columns</p>\n",
       "</div>"
      ],
      "text/plain": [
       "                                                review  \\\n",
       "0    unless like hear word everi sentenc movi n't s...   \n",
       "1    walk thirti minut could n't take anymor amount...   \n",
       "2    wow critic went real hard one fulli engag stat...   \n",
       "3    movi could n't hold interest much finish hope ...   \n",
       "4    movi interest premis like greenland anoth disa...   \n",
       "..                                                 ...   \n",
       "120  movi dumb rock plot nonsens charact motiv none...   \n",
       "121  dull dull dull.a great premis ruin pedestrian ...   \n",
       "122  premis peopl reincarn memori past live cool fa...   \n",
       "123  absolut dread movi complet disrespect audienc ...   \n",
       "124  peopl compar awak bird box bullock wherea high...   \n",
       "\n",
       "                                                scores  compound  \\\n",
       "0    {'neg': 0.24, 'neu': 0.608, 'pos': 0.152, 'com...   -0.4404   \n",
       "1    {'neg': 0.094, 'neu': 0.831, 'pos': 0.075, 'co...   -0.1779   \n",
       "2    {'neg': 0.075, 'neu': 0.683, 'pos': 0.243, 'co...    0.9800   \n",
       "3    {'neg': 0.273, 'neu': 0.421, 'pos': 0.306, 'co...    0.1581   \n",
       "4    {'neg': 0.029, 'neu': 0.7, 'pos': 0.271, 'comp...    0.9916   \n",
       "..                                                 ...       ...   \n",
       "120  {'neg': 0.216, 'neu': 0.584, 'pos': 0.2, 'comp...   -0.0961   \n",
       "121  {'neg': 0.422, 'neu': 0.352, 'pos': 0.226, 'co...   -0.8591   \n",
       "122  {'neg': 0.152, 'neu': 0.713, 'pos': 0.135, 'co...   -0.1531   \n",
       "123  {'neg': 0.274, 'neu': 0.658, 'pos': 0.068, 'co...   -0.8750   \n",
       "124  {'neg': 0.11, 'neu': 0.755, 'pos': 0.135, 'com...    0.0258   \n",
       "\n",
       "    sentiment_type  \n",
       "0         NEGATIVE  \n",
       "1         NEGATIVE  \n",
       "2         POSITIVE  \n",
       "3         POSITIVE  \n",
       "4         POSITIVE  \n",
       "..             ...  \n",
       "120       NEGATIVE  \n",
       "121       NEGATIVE  \n",
       "122       NEGATIVE  \n",
       "123       NEGATIVE  \n",
       "124       POSITIVE  \n",
       "\n",
       "[125 rows x 4 columns]"
      ]
     },
     "execution_count": 67,
     "metadata": {},
     "output_type": "execute_result"
    }
   ],
   "source": [
    "reviews"
   ]
  },
  {
   "cell_type": "code",
   "execution_count": 68,
   "metadata": {},
   "outputs": [
    {
     "data": {
      "text/plain": [
       "<matplotlib.axes._subplots.AxesSubplot at 0x1e2eff385c8>"
      ]
     },
     "execution_count": 68,
     "metadata": {},
     "output_type": "execute_result"
    },
    {
     "data": {
      "image/png": "[encoded data removed]",
      "text/plain": [
       "<Figure size 432x288 with 1 Axes>"
      ]
     },
     "metadata": {
      "needs_background": "light"
     },
     "output_type": "display_data"
    }
   ],
   "source": [
    "reviews.sentiment_type.value_counts().plot(kind='bar',title=\"sentiment analysis\")"
   ]
  },
  {
   "cell_type": "markdown",
   "metadata": {},
   "source": [
    "There seems to be more positive reviews in this analysis. This makes sense, I picked critically acclaimed movie franchises \n",
    "such as the dark knight and Fast & Furious franchises. "
   ]
  }
 ],
 "metadata": {
  "kernelspec": {
   "display_name": "Python 3",
   "language": "python",
   "name": "python3"
  },
  "language_info": {
   "codemirror_mode": {
    "name": "ipython",
    "version": 3
   },
   "file_extension": ".py",
   "mimetype": "text/x-python",
   "name": "python",
   "nbconvert_exporter": "python",
   "pygments_lexer": "ipython3",
   "version": "3.7.4"
  }
 },
 "nbformat": 4,
 "nbformat_minor": 2
}
